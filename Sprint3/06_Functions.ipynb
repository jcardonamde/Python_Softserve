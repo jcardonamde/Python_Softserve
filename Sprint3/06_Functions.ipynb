{
  "cells": [
    {
      "cell_type": "markdown",
      "metadata": {
        "id": "view-in-github",
        "colab_type": "text"
      },
      "source": [
        "<a href=\"https://colab.research.google.com/github/jcardonamde/Python_Softserve/blob/main/Sprint3/06_Functions.ipynb\" target=\"_parent\"><img src=\"https://colab.research.google.com/assets/colab-badge.svg\" alt=\"Open In Colab\"/></a>"
      ]
    },
    {
      "cell_type": "markdown",
      "id": "a219851c-cace-4dd9-a339-088d9b195c75",
      "metadata": {
        "id": "a219851c-cace-4dd9-a339-088d9b195c75"
      },
      "source": [
        "# Functions in Python\n",
        "_Liubov Koliasa, León Jaramillo_ at __[SoftServe](https://www.softserveinc.com/en-us)__"
      ]
    },
    {
      "cell_type": "markdown",
      "id": "a28b4179-60d7-45d0-a832-67d20e32eaef",
      "metadata": {
        "id": "a28b4179-60d7-45d0-a832-67d20e32eaef"
      },
      "source": [
        "## Learning Goals\n",
        "- To learn what are **functions** and what are they used for.\n",
        "- To introduce different types of function arguments.\n",
        "- To see how do recursive functions look like.\n",
        "- To introduce anonymous functions."
      ]
    },
    {
      "cell_type": "markdown",
      "id": "aa578a5a-f46f-43cd-a0f4-4a9c85cd9b66",
      "metadata": {
        "id": "aa578a5a-f46f-43cd-a0f4-4a9c85cd9b66"
      },
      "source": [
        "- A **function** is a block of organized, reusable code that is used to perform a single, related action.\n",
        "- Functions provide better **modularity** for your application and a high degree of **code reusing**.\n",
        "- As you already know, Python gives you many **built-in functions** like `print()`, etc., but you can also create your own functions. These functions are called **user-defined functions**."
      ]
    },
    {
      "cell_type": "markdown",
      "id": "798ce729-58c5-40d0-8198-852417b373b6",
      "metadata": {
        "id": "798ce729-58c5-40d0-8198-852417b373b6"
      },
      "source": [
        "## Defining a Function\n",
        "- Function **blocks** begin with the keyword `def` followed by the function name and parentheses `()`.\n",
        "- Any input **parameters** should be placed within these parentheses.\n",
        "- The first statement of a function can be the documentation string of the function or **docstring**, and it is an **optional** statement.\n",
        "- The code block within every function starts with a colon `:` and is **indented**.\n",
        "- The statement `return [expression]` **exits a function**, optionally passing back an expression to the caller. A return statement with no arguments is the same as `return None`."
      ]
    },
    {
      "cell_type": "markdown",
      "id": "7730069a-7213-446e-bac2-9163ef9316d2",
      "metadata": {
        "id": "7730069a-7213-446e-bac2-9163ef9316d2"
      },
      "source": [
        "`def function_name(parameters):`\n",
        "<br>`    \"\"\"docstring\"\"\"`\n",
        "<br>`    statement(s)`\n",
        "<br>`    [return expression_list]`\n",
        "\n",
        "Let's see some examples. Firstly, we'll define a very simple function."
      ]
    },
    {
      "cell_type": "code",
      "execution_count": 1,
      "id": "e2aa48f3-0417-4a9f-8869-f76360b94bb7",
      "metadata": {
        "id": "e2aa48f3-0417-4a9f-8869-f76360b94bb7"
      },
      "outputs": [],
      "source": [
        "def print_message():\n",
        "    print('This is a message')"
      ]
    },
    {
      "cell_type": "markdown",
      "id": "a09dc1c1-e330-4dda-b44c-bb08ad00f6a4",
      "metadata": {
        "id": "a09dc1c1-e330-4dda-b44c-bb08ad00f6a4"
      },
      "source": [
        "Then, we can call it. Please note that it has no **parameters**, so we provide it no **arguments**."
      ]
    },
    {
      "cell_type": "code",
      "execution_count": 2,
      "id": "37b0b1ab-680e-410a-89d0-2a2190ea9b97",
      "metadata": {
        "colab": {
          "base_uri": "https://localhost:8080/"
        },
        "id": "37b0b1ab-680e-410a-89d0-2a2190ea9b97",
        "outputId": "b6edf181-7ae3-4209-bba1-f5aa34c6528a"
      },
      "outputs": [
        {
          "output_type": "stream",
          "name": "stdout",
          "text": [
            "This is a message\n"
          ]
        }
      ],
      "source": [
        "print_message()"
      ]
    },
    {
      "cell_type": "markdown",
      "id": "379bddef-2dac-4341-a2fb-6fe7f05cdd53",
      "metadata": {
        "id": "379bddef-2dac-4341-a2fb-6fe7f05cdd53"
      },
      "source": [
        "We can define functions with one or more parameters, as follows."
      ]
    },
    {
      "cell_type": "code",
      "execution_count": 4,
      "id": "f81d7d93-35a5-4106-b34a-c1574f10a53f",
      "metadata": {
        "id": "f81d7d93-35a5-4106-b34a-c1574f10a53f"
      },
      "outputs": [],
      "source": [
        "def print_greeting(name):\n",
        "    print(f'Hello, {name}, how are you?')"
      ]
    },
    {
      "cell_type": "markdown",
      "id": "4bbc45d0-ba74-4a14-a1d5-aaabcb37520c",
      "metadata": {
        "id": "4bbc45d0-ba74-4a14-a1d5-aaabcb37520c"
      },
      "source": [
        "And call them accordingly."
      ]
    },
    {
      "cell_type": "code",
      "execution_count": 5,
      "id": "268b8936-b630-4fca-99c7-1df7ca41bf2d",
      "metadata": {
        "colab": {
          "base_uri": "https://localhost:8080/"
        },
        "id": "268b8936-b630-4fca-99c7-1df7ca41bf2d",
        "outputId": "42bf0a33-4611-4e63-f5a2-619fed4d5f23"
      },
      "outputs": [
        {
          "output_type": "stream",
          "name": "stdout",
          "text": [
            "Hello, Jonathan, how are you?\n",
            "Hello, Sandra, how are you?\n"
          ]
        }
      ],
      "source": [
        "print_greeting('Jonathan')\n",
        "print_greeting('Sandra')"
      ]
    },
    {
      "cell_type": "code",
      "execution_count": 6,
      "id": "6c2b19e4-c64d-4d61-9229-620b719f0715",
      "metadata": {
        "colab": {
          "base_uri": "https://localhost:8080/"
        },
        "id": "6c2b19e4-c64d-4d61-9229-620b719f0715",
        "outputId": "1e16f031-3007-4d75-de07-1c103e6e39c0"
      },
      "outputs": [
        {
          "output_type": "stream",
          "name": "stdout",
          "text": [
            "Hello, Jonathan, how are you?\n",
            "Hello, Sandra, how are you?\n"
          ]
        },
        {
          "output_type": "execute_result",
          "data": {
            "text/plain": [
              "NoneType"
            ]
          },
          "metadata": {},
          "execution_count": 6
        }
      ],
      "source": [
        "type(print_greeting('Jonathan'))\n",
        "type(print_greeting('Sandra'))"
      ]
    },
    {
      "cell_type": "markdown",
      "id": "83c6b8f3-47b7-4b29-9979-10a6ecddf86f",
      "metadata": {
        "id": "83c6b8f3-47b7-4b29-9979-10a6ecddf86f"
      },
      "source": [
        "When dealing with multiple parameters, they should be separated by **commas**. Please note the **docstring** bellow, which may explain the functions purpose."
      ]
    },
    {
      "cell_type": "code",
      "execution_count": 7,
      "id": "1f07cd67-3f2d-4714-8667-d90dd4576ebd",
      "metadata": {
        "id": "1f07cd67-3f2d-4714-8667-d90dd4576ebd"
      },
      "outputs": [],
      "source": [
        "def print_greeting(name, surname):\n",
        "    '''This function prints a greeting (obviously)\n",
        "    Receives as arguments a person's name and surname'''\n",
        "    print(f'Hi, {name} {surname}, how are you?')"
      ]
    },
    {
      "cell_type": "markdown",
      "id": "86566302-1bdb-433c-9122-0f77dd4310ff",
      "metadata": {
        "id": "86566302-1bdb-433c-9122-0f77dd4310ff"
      },
      "source": [
        "We can call the function above accordingly."
      ]
    },
    {
      "cell_type": "code",
      "execution_count": 8,
      "id": "939c1bcc-ee56-4294-9c97-47fcbef938c9",
      "metadata": {
        "colab": {
          "base_uri": "https://localhost:8080/"
        },
        "id": "939c1bcc-ee56-4294-9c97-47fcbef938c9",
        "outputId": "c857bc7f-5fc0-44db-cc67-6334fcd69cac"
      },
      "outputs": [
        {
          "output_type": "stream",
          "name": "stdout",
          "text": [
            "Hi, Jonathan Cardona, how are you?\n"
          ]
        }
      ],
      "source": [
        "print_greeting('Jonathan','Cardona')"
      ]
    },
    {
      "cell_type": "code",
      "source": [
        "print_greeting('Sandra','Zapata')"
      ],
      "metadata": {
        "colab": {
          "base_uri": "https://localhost:8080/"
        },
        "id": "2_iqy2kN7-h9",
        "outputId": "e1725fe8-f13d-47b2-b819-8b03e19e0716"
      },
      "id": "2_iqy2kN7-h9",
      "execution_count": 9,
      "outputs": [
        {
          "output_type": "stream",
          "name": "stdout",
          "text": [
            "Hi, Sandra Zapata, how are you?\n"
          ]
        }
      ]
    },
    {
      "cell_type": "markdown",
      "id": "b7154ea6-dcc9-456b-9e0e-b493efa636f6",
      "metadata": {
        "id": "b7154ea6-dcc9-456b-9e0e-b493efa636f6"
      },
      "source": [
        "And we can get access to its docstring using `__doc__`."
      ]
    },
    {
      "cell_type": "code",
      "execution_count": 10,
      "id": "0a302979-3547-4827-95f1-39bafc4df7e4",
      "metadata": {
        "colab": {
          "base_uri": "https://localhost:8080/",
          "height": 35
        },
        "id": "0a302979-3547-4827-95f1-39bafc4df7e4",
        "outputId": "27695e57-7f75-4784-8cc1-31e528a06d93"
      },
      "outputs": [
        {
          "output_type": "execute_result",
          "data": {
            "text/plain": [
              "\"This function prints a greeting (obviously)\\n    Receives as arguments a person's name and surname\""
            ],
            "application/vnd.google.colaboratory.intrinsic+json": {
              "type": "string"
            }
          },
          "metadata": {},
          "execution_count": 10
        }
      ],
      "source": [
        "print_greeting.__doc__"
      ]
    },
    {
      "cell_type": "code",
      "execution_count": 11,
      "id": "593e5ca6-5102-40fd-95fd-97eefbd53615",
      "metadata": {
        "colab": {
          "base_uri": "https://localhost:8080/",
          "height": 52
        },
        "id": "593e5ca6-5102-40fd-95fd-97eefbd53615",
        "outputId": "f39bd3f5-f1db-4f4e-c8fe-6172b45a33b0"
      },
      "outputs": [
        {
          "output_type": "execute_result",
          "data": {
            "text/plain": [
              "'Prints the values to a stream, or to sys.stdout by default.\\n\\n  sep\\n    string inserted between values, default a space.\\n  end\\n    string appended after the last value, default a newline.\\n  file\\n    a file-like object (stream); defaults to the current sys.stdout.\\n  flush\\n    whether to forcibly flush the stream.'"
            ],
            "application/vnd.google.colaboratory.intrinsic+json": {
              "type": "string"
            }
          },
          "metadata": {},
          "execution_count": 11
        }
      ],
      "source": [
        "print.__doc__"
      ]
    },
    {
      "cell_type": "markdown",
      "id": "20540c34-f383-4e97-b907-35c452174303",
      "metadata": {
        "id": "20540c34-f383-4e97-b907-35c452174303"
      },
      "source": [
        "- The **return** statement is used to exit a function and go back to the place from where it was called.\n",
        "- This statement can contain an **expression** which gets evaluated and the value is **returned**\n",
        "- If there is no expression in the return statement or the return statement itself is not present inside a function, then the function will return a `None` object."
      ]
    },
    {
      "cell_type": "code",
      "execution_count": 12,
      "id": "504afee7-439a-49d7-a8b8-9b37d10728e9",
      "metadata": {
        "id": "504afee7-439a-49d7-a8b8-9b37d10728e9"
      },
      "outputs": [],
      "source": [
        "def get_greeting(name, surname):\n",
        "    '''This function returns a greeting (obviously)\n",
        "    Receives as arguments a person's name and surname'''\n",
        "    return f'Hi, {name} {surname}, how are you?'"
      ]
    },
    {
      "cell_type": "markdown",
      "id": "2dfa6e9b-a79b-4636-9f19-fd7c5e256672",
      "metadata": {
        "id": "2dfa6e9b-a79b-4636-9f19-fd7c5e256672"
      },
      "source": [
        "The function above **returns** a string with the greeting. However, it does not print it.\n",
        "<br>Afterwards, we may assign its value to a variable or to do whatever we want with it."
      ]
    },
    {
      "cell_type": "code",
      "execution_count": 13,
      "id": "549d21bb-47f6-4f4b-adbe-450413104310",
      "metadata": {
        "colab": {
          "base_uri": "https://localhost:8080/"
        },
        "id": "549d21bb-47f6-4f4b-adbe-450413104310",
        "outputId": "32feb23a-4aed-4b1d-eeb8-6d73f0051ba1"
      },
      "outputs": [
        {
          "output_type": "stream",
          "name": "stdout",
          "text": [
            "Hi, Jonathan Cardona, how are you?\n"
          ]
        }
      ],
      "source": [
        "print(get_greeting('Jonathan','Cardona'))"
      ]
    },
    {
      "cell_type": "code",
      "source": [
        "print(get_greeting('Sandra','Zapata'))"
      ],
      "metadata": {
        "colab": {
          "base_uri": "https://localhost:8080/"
        },
        "id": "Jzr3If2D8RoS",
        "outputId": "81cc3f1b-a89c-466d-e1fa-dc483cc15c74"
      },
      "id": "Jzr3If2D8RoS",
      "execution_count": 14,
      "outputs": [
        {
          "output_type": "stream",
          "name": "stdout",
          "text": [
            "Hi, Sandra Zapata, how are you?\n"
          ]
        }
      ]
    },
    {
      "cell_type": "code",
      "source": [
        "type(get_greeting('Jonathan','Cardona'))"
      ],
      "metadata": {
        "colab": {
          "base_uri": "https://localhost:8080/"
        },
        "id": "1jjGYTij8QcO",
        "outputId": "aa7e3131-632c-443e-844f-d7a738b05727"
      },
      "id": "1jjGYTij8QcO",
      "execution_count": 15,
      "outputs": [
        {
          "output_type": "execute_result",
          "data": {
            "text/plain": [
              "str"
            ]
          },
          "metadata": {},
          "execution_count": 15
        }
      ]
    },
    {
      "cell_type": "code",
      "execution_count": 16,
      "id": "3d161462-9768-4681-91bd-efae2f859371",
      "metadata": {
        "colab": {
          "base_uri": "https://localhost:8080/"
        },
        "id": "3d161462-9768-4681-91bd-efae2f859371",
        "outputId": "0dbbd066-c7e4-4c6c-f4f8-74e2244094ee"
      },
      "outputs": [
        {
          "output_type": "execute_result",
          "data": {
            "text/plain": [
              "str"
            ]
          },
          "metadata": {},
          "execution_count": 16
        }
      ],
      "source": [
        "type(get_greeting('Sandra','Zapata'))"
      ]
    },
    {
      "cell_type": "code",
      "execution_count": 18,
      "id": "2d1a9d1b-86f1-4123-b41b-98b61952370c",
      "metadata": {
        "id": "2d1a9d1b-86f1-4123-b41b-98b61952370c"
      },
      "outputs": [],
      "source": [
        "my_greeting_one = get_greeting('Jonathan','Cardona')"
      ]
    },
    {
      "cell_type": "code",
      "source": [
        "my_greeting_two = get_greeting('Sandra','Zapata')"
      ],
      "metadata": {
        "id": "H-09h9WZ9JzJ"
      },
      "id": "H-09h9WZ9JzJ",
      "execution_count": 19,
      "outputs": []
    },
    {
      "cell_type": "code",
      "execution_count": 20,
      "id": "93b112bf-3091-411b-a629-21e0a60f4351",
      "metadata": {
        "colab": {
          "base_uri": "https://localhost:8080/"
        },
        "id": "93b112bf-3091-411b-a629-21e0a60f4351",
        "outputId": "86bb58c7-1328-4863-f24b-9f92ac6a5703"
      },
      "outputs": [
        {
          "output_type": "stream",
          "name": "stdout",
          "text": [
            "Hi, Jonathan Cardona, how are you?\n"
          ]
        }
      ],
      "source": [
        "print(my_greeting_one)"
      ]
    },
    {
      "cell_type": "code",
      "source": [
        "print(my_greeting_two)"
      ],
      "metadata": {
        "colab": {
          "base_uri": "https://localhost:8080/"
        },
        "id": "f6-CH7iy9Rf-",
        "outputId": "aa86a70f-6327-4ffd-ffb5-829cd510faf9"
      },
      "id": "f6-CH7iy9Rf-",
      "execution_count": 21,
      "outputs": [
        {
          "output_type": "stream",
          "name": "stdout",
          "text": [
            "Hi, Sandra Zapata, how are you?\n"
          ]
        }
      ]
    },
    {
      "cell_type": "code",
      "execution_count": 22,
      "id": "909e1923-782e-42c2-96ad-47e49391af1d",
      "metadata": {
        "id": "909e1923-782e-42c2-96ad-47e49391af1d"
      },
      "outputs": [],
      "source": [
        "def print_and_greet(name):\n",
        "    print(f'Hi {name}, inside the function')\n",
        "    return f'Hi {name}, outside the function'"
      ]
    },
    {
      "cell_type": "code",
      "execution_count": 23,
      "id": "bbd565ec-eeda-4133-a3e0-f91a4fe201e5",
      "metadata": {
        "colab": {
          "base_uri": "https://localhost:8080/",
          "height": 52
        },
        "id": "bbd565ec-eeda-4133-a3e0-f91a4fe201e5",
        "outputId": "48b433f5-72db-4513-a184-d76ebfb323c2"
      },
      "outputs": [
        {
          "output_type": "stream",
          "name": "stdout",
          "text": [
            "Hi Jonathan, inside the function\n"
          ]
        },
        {
          "output_type": "execute_result",
          "data": {
            "text/plain": [
              "'Hi Jonathan, outside the function'"
            ],
            "application/vnd.google.colaboratory.intrinsic+json": {
              "type": "string"
            }
          },
          "metadata": {},
          "execution_count": 23
        }
      ],
      "source": [
        "print_and_greet('Jonathan')"
      ]
    },
    {
      "cell_type": "code",
      "source": [
        "print_and_greet('Sandra')"
      ],
      "metadata": {
        "colab": {
          "base_uri": "https://localhost:8080/",
          "height": 52
        },
        "id": "FESyfYwK9euC",
        "outputId": "ca5a1c76-499a-4021-d08a-b4146cb5c3d8"
      },
      "id": "FESyfYwK9euC",
      "execution_count": 24,
      "outputs": [
        {
          "output_type": "stream",
          "name": "stdout",
          "text": [
            "Hi Sandra, inside the function\n"
          ]
        },
        {
          "output_type": "execute_result",
          "data": {
            "text/plain": [
              "'Hi Sandra, outside the function'"
            ],
            "application/vnd.google.colaboratory.intrinsic+json": {
              "type": "string"
            }
          },
          "metadata": {},
          "execution_count": 24
        }
      ]
    },
    {
      "cell_type": "code",
      "execution_count": 25,
      "id": "6dd71e8a-186a-425f-8ac2-bb2addc0cae9",
      "metadata": {
        "colab": {
          "base_uri": "https://localhost:8080/"
        },
        "id": "6dd71e8a-186a-425f-8ac2-bb2addc0cae9",
        "outputId": "147e3686-11c1-4ccf-a725-a8376489b971"
      },
      "outputs": [
        {
          "output_type": "stream",
          "name": "stdout",
          "text": [
            "Hi Jonathan, inside the function\n",
            "Hi Jonathan, outside the function\n"
          ]
        }
      ],
      "source": [
        "print(print_and_greet('Jonathan'))"
      ]
    },
    {
      "cell_type": "code",
      "source": [
        "print(print_and_greet('Sandra'))"
      ],
      "metadata": {
        "colab": {
          "base_uri": "https://localhost:8080/"
        },
        "id": "O0DzWjWk9mMJ",
        "outputId": "8a42fc2a-e7fa-42d6-c9d6-de1fcbbff89e"
      },
      "id": "O0DzWjWk9mMJ",
      "execution_count": 26,
      "outputs": [
        {
          "output_type": "stream",
          "name": "stdout",
          "text": [
            "Hi Sandra, inside the function\n",
            "Hi Sandra, outside the function\n"
          ]
        }
      ]
    },
    {
      "cell_type": "markdown",
      "id": "88796052-a568-493c-b17f-b38e4da2eadd",
      "metadata": {
        "id": "88796052-a568-493c-b17f-b38e4da2eadd"
      },
      "source": [
        "## Some Types of Function Arguments\n",
        "Calling a function using a proper number of arguments will work smoothly. However, using a different number of arguments, will make compiler complain. So, to make things flexible, we count on several kinds of arguments.\n",
        "- **Required arguments:** As their type name suggests you should always provide such arguments when calling the respective function.\n",
        "- **Default arguments:** Since these arguments have a respective default value, you don't need to provide them a value every time.\n",
        "- **Keyword arguments:** These ones allow us to call functions altering the arguments' order.\n",
        "- **Variable-length arguments:** This feature allows us to specify an arbitrary number of arguments."
      ]
    },
    {
      "cell_type": "markdown",
      "id": "a63687b6-03e3-4e12-8383-679444b03f0a",
      "metadata": {
        "id": "a63687b6-03e3-4e12-8383-679444b03f0a"
      },
      "source": [
        "We should consider that when we miss providing a **required argument** (they'll always be **positional arguments**), we'll get an error."
      ]
    },
    {
      "cell_type": "code",
      "execution_count": 29,
      "id": "c2bbccee-b379-42be-8854-6ff541341d8b",
      "metadata": {
        "colab": {
          "base_uri": "https://localhost:8080/",
          "height": 141
        },
        "id": "c2bbccee-b379-42be-8854-6ff541341d8b",
        "outputId": "bbcfa3d1-3d3a-4acf-ba20-d27ad78a7016"
      },
      "outputs": [
        {
          "output_type": "error",
          "ename": "TypeError",
          "evalue": "get_greeting() missing 2 required positional arguments: 'name' and 'surname'",
          "traceback": [
            "\u001b[0;31m---------------------------------------------------------------------------\u001b[0m",
            "\u001b[0;31mTypeError\u001b[0m                                 Traceback (most recent call last)",
            "\u001b[0;32m<ipython-input-29-0d262945a31c>\u001b[0m in \u001b[0;36m<cell line: 0>\u001b[0;34m()\u001b[0m\n\u001b[0;32m----> 1\u001b[0;31m \u001b[0mget_greeting\u001b[0m\u001b[0;34m(\u001b[0m\u001b[0;34m)\u001b[0m\u001b[0;34m\u001b[0m\u001b[0;34m\u001b[0m\u001b[0m\n\u001b[0m",
            "\u001b[0;31mTypeError\u001b[0m: get_greeting() missing 2 required positional arguments: 'name' and 'surname'"
          ]
        }
      ],
      "source": [
        "get_greeting()"
      ]
    },
    {
      "cell_type": "code",
      "execution_count": 30,
      "id": "d9e16db0-3b56-49e6-a135-1ec2c1d0f568",
      "metadata": {
        "colab": {
          "base_uri": "https://localhost:8080/",
          "height": 141
        },
        "id": "d9e16db0-3b56-49e6-a135-1ec2c1d0f568",
        "outputId": "f83c11ef-194c-4c24-b8e6-0e47637c6387"
      },
      "outputs": [
        {
          "output_type": "error",
          "ename": "TypeError",
          "evalue": "get_greeting() missing 1 required positional argument: 'surname'",
          "traceback": [
            "\u001b[0;31m---------------------------------------------------------------------------\u001b[0m",
            "\u001b[0;31mTypeError\u001b[0m                                 Traceback (most recent call last)",
            "\u001b[0;32m<ipython-input-30-f14cdbcbf87b>\u001b[0m in \u001b[0;36m<cell line: 0>\u001b[0;34m()\u001b[0m\n\u001b[0;32m----> 1\u001b[0;31m \u001b[0mget_greeting\u001b[0m\u001b[0;34m(\u001b[0m\u001b[0;34m'Jonathan'\u001b[0m\u001b[0;34m)\u001b[0m\u001b[0;34m\u001b[0m\u001b[0;34m\u001b[0m\u001b[0m\n\u001b[0m",
            "\u001b[0;31mTypeError\u001b[0m: get_greeting() missing 1 required positional argument: 'surname'"
          ]
        }
      ],
      "source": [
        "get_greeting('Jonathan')"
      ]
    },
    {
      "cell_type": "markdown",
      "id": "c6870c41-5e9d-43d4-8153-36ad2b1324a3",
      "metadata": {
        "id": "c6870c41-5e9d-43d4-8153-36ad2b1324a3"
      },
      "source": [
        "So, we can assign a **default value** to an argument. Be sure not to specify default arguments before non-default ones."
      ]
    },
    {
      "cell_type": "code",
      "execution_count": 31,
      "id": "2a630e13-ae3f-46da-ae32-c88e7651cc92",
      "metadata": {
        "id": "2a630e13-ae3f-46da-ae32-c88e7651cc92"
      },
      "outputs": [],
      "source": [
        "def get_greeting(name, surname, greeting='Hello'):\n",
        "    return f'{greeting}, {name} {surname}, how are you?'"
      ]
    },
    {
      "cell_type": "code",
      "execution_count": 32,
      "id": "a02f23c1-9e6a-45ed-906a-b37a29ef62ea",
      "metadata": {
        "colab": {
          "base_uri": "https://localhost:8080/",
          "height": 35
        },
        "id": "a02f23c1-9e6a-45ed-906a-b37a29ef62ea",
        "outputId": "5b5a6eca-a6f0-48b8-856b-29c761fcca51"
      },
      "outputs": [
        {
          "output_type": "execute_result",
          "data": {
            "text/plain": [
              "'Hello, Jonathan Cardona, how are you?'"
            ],
            "application/vnd.google.colaboratory.intrinsic+json": {
              "type": "string"
            }
          },
          "metadata": {},
          "execution_count": 32
        }
      ],
      "source": [
        "get_greeting('Jonathan', 'Cardona')"
      ]
    },
    {
      "cell_type": "code",
      "source": [
        "get_greeting('Sandra', 'Zapata')"
      ],
      "metadata": {
        "colab": {
          "base_uri": "https://localhost:8080/",
          "height": 35
        },
        "id": "9X44ekL2Bigo",
        "outputId": "ca6ac5c4-92b6-4f4f-af33-f7f051b4aa33"
      },
      "id": "9X44ekL2Bigo",
      "execution_count": 33,
      "outputs": [
        {
          "output_type": "execute_result",
          "data": {
            "text/plain": [
              "'Hello, Sandra Zapata, how are you?'"
            ],
            "application/vnd.google.colaboratory.intrinsic+json": {
              "type": "string"
            }
          },
          "metadata": {},
          "execution_count": 33
        }
      ]
    },
    {
      "cell_type": "code",
      "execution_count": 34,
      "id": "f5ddf928-4951-4541-b70d-f012bd9e2745",
      "metadata": {
        "colab": {
          "base_uri": "https://localhost:8080/",
          "height": 35
        },
        "id": "f5ddf928-4951-4541-b70d-f012bd9e2745",
        "outputId": "cc4693c2-491f-428b-ab92-4f8606622434"
      },
      "outputs": [
        {
          "output_type": "execute_result",
          "data": {
            "text/plain": [
              "'Hi, Jonathan Cardona, how are you?'"
            ],
            "application/vnd.google.colaboratory.intrinsic+json": {
              "type": "string"
            }
          },
          "metadata": {},
          "execution_count": 34
        }
      ],
      "source": [
        "get_greeting('Jonathan', 'Cardona','Hi')"
      ]
    },
    {
      "cell_type": "code",
      "source": [
        "get_greeting('Sandra', 'Zapata','Hi')"
      ],
      "metadata": {
        "colab": {
          "base_uri": "https://localhost:8080/",
          "height": 35
        },
        "id": "SS0Xd0bGBoNJ",
        "outputId": "aa8f316c-fc4e-4832-c885-b32665c861eb"
      },
      "id": "SS0Xd0bGBoNJ",
      "execution_count": 35,
      "outputs": [
        {
          "output_type": "execute_result",
          "data": {
            "text/plain": [
              "'Hi, Sandra Zapata, how are you?'"
            ],
            "application/vnd.google.colaboratory.intrinsic+json": {
              "type": "string"
            }
          },
          "metadata": {},
          "execution_count": 35
        }
      ]
    },
    {
      "cell_type": "markdown",
      "id": "9a36761b-f144-49b3-a3d7-22ebd3127ddd",
      "metadata": {
        "id": "9a36761b-f144-49b3-a3d7-22ebd3127ddd"
      },
      "source": [
        "We can alter the order of the arguments being passed to the function (using the so-called **keyword arguments**)."
      ]
    },
    {
      "cell_type": "code",
      "execution_count": 36,
      "id": "084ebd4a-37c1-4be0-b3b4-03e080644db2",
      "metadata": {
        "id": "084ebd4a-37c1-4be0-b3b4-03e080644db2"
      },
      "outputs": [],
      "source": [
        "def print_greeting(name, surname):\n",
        "    print(f'Hi, {name} {surname}, how are you?')"
      ]
    },
    {
      "cell_type": "code",
      "execution_count": 37,
      "id": "2adab89d-a2d4-444a-ae4c-def2c0700e76",
      "metadata": {
        "colab": {
          "base_uri": "https://localhost:8080/"
        },
        "id": "2adab89d-a2d4-444a-ae4c-def2c0700e76",
        "outputId": "3ee47db8-5a8b-440b-aa7e-b3b8b27aa580"
      },
      "outputs": [
        {
          "output_type": "stream",
          "name": "stdout",
          "text": [
            "Hi, Jonathan Cardona, how are you?\n"
          ]
        }
      ],
      "source": [
        "print_greeting('Jonathan', 'Cardona')"
      ]
    },
    {
      "cell_type": "code",
      "source": [
        "print_greeting('Sandra', 'Zapata')"
      ],
      "metadata": {
        "colab": {
          "base_uri": "https://localhost:8080/"
        },
        "id": "38ChGS8MDIPZ",
        "outputId": "e0efcbc0-3f28-4723-a7d5-cd1f03240617"
      },
      "id": "38ChGS8MDIPZ",
      "execution_count": 38,
      "outputs": [
        {
          "output_type": "stream",
          "name": "stdout",
          "text": [
            "Hi, Sandra Zapata, how are you?\n"
          ]
        }
      ]
    },
    {
      "cell_type": "code",
      "execution_count": 41,
      "id": "88955d09-eb7a-41ae-8b51-37f1a994bc82",
      "metadata": {
        "colab": {
          "base_uri": "https://localhost:8080/"
        },
        "id": "88955d09-eb7a-41ae-8b51-37f1a994bc82",
        "outputId": "510b8060-ef05-4091-9b56-f65fa6d1e802"
      },
      "outputs": [
        {
          "output_type": "stream",
          "name": "stdout",
          "text": [
            "Hi, Jonathan Cardona, how are you?\n",
            "Hi,  Sandra Zapata, how are you?\n"
          ]
        }
      ],
      "source": [
        "print_greeting(name='Jonathan', surname='Cardona')\n",
        "print_greeting(name=' Sandra', surname='Zapata')"
      ]
    },
    {
      "cell_type": "code",
      "execution_count": 42,
      "id": "432ab08f-8f7d-4fa9-b479-01c71a28ed9c",
      "metadata": {
        "colab": {
          "base_uri": "https://localhost:8080/"
        },
        "id": "432ab08f-8f7d-4fa9-b479-01c71a28ed9c",
        "outputId": "8a6083ee-7f14-4ed8-d084-9993d3a72afb"
      },
      "outputs": [
        {
          "output_type": "stream",
          "name": "stdout",
          "text": [
            "Hi, Jonathan Cardona, how are you?\n",
            "Hi, Zapata Sandra, how are you?\n"
          ]
        }
      ],
      "source": [
        "print_greeting(surname='Cardona', name='Jonathan')\n",
        "print_greeting(surname='Sandra', name='Zapata')"
      ]
    },
    {
      "cell_type": "code",
      "execution_count": 43,
      "id": "5d891ef2-a46d-4cb5-9e09-c906b949f7a8",
      "metadata": {
        "colab": {
          "base_uri": "https://localhost:8080/"
        },
        "id": "5d891ef2-a46d-4cb5-9e09-c906b949f7a8",
        "outputId": "867110be-83bc-4bbe-f0b7-bd9b2fe33cde"
      },
      "outputs": [
        {
          "output_type": "stream",
          "name": "stdout",
          "text": [
            "Hi, Jonathan Cardona, how are you?\n",
            "Hi, Sandra Zapata, how are you?\n"
          ]
        }
      ],
      "source": [
        "print_greeting('Jonathan', surname='Cardona')\n",
        "print_greeting('Sandra', surname='Zapata')"
      ]
    },
    {
      "cell_type": "code",
      "execution_count": 44,
      "id": "db90a80e-91d0-4eb6-8a60-1e5901b6c8f6",
      "metadata": {
        "colab": {
          "base_uri": "https://localhost:8080/",
          "height": 106
        },
        "id": "db90a80e-91d0-4eb6-8a60-1e5901b6c8f6",
        "outputId": "7bca9f1c-6e5e-47ca-f54f-9b4299b62cc8"
      },
      "outputs": [
        {
          "output_type": "error",
          "ename": "SyntaxError",
          "evalue": "positional argument follows keyword argument (<ipython-input-44-1aca50e9169b>, line 1)",
          "traceback": [
            "\u001b[0;36m  File \u001b[0;32m\"<ipython-input-44-1aca50e9169b>\"\u001b[0;36m, line \u001b[0;32m1\u001b[0m\n\u001b[0;31m    print_greeting(name='John', 'Travolta')\u001b[0m\n\u001b[0m                                          ^\u001b[0m\n\u001b[0;31mSyntaxError\u001b[0m\u001b[0;31m:\u001b[0m positional argument follows keyword argument\n"
          ]
        }
      ],
      "source": [
        "print_greeting(name='John', 'Travolta')"
      ]
    },
    {
      "cell_type": "markdown",
      "id": "68c74e08-41b2-41cb-97f6-495453887e00",
      "metadata": {
        "id": "68c74e08-41b2-41cb-97f6-495453887e00"
      },
      "source": [
        "In the function definition we use an asterisk (*) before the parameter name to denote **arbitrary number of arguments**."
      ]
    },
    {
      "cell_type": "code",
      "execution_count": 45,
      "id": "9c3c2b82-afd8-42d6-b692-827fdb09577b",
      "metadata": {
        "id": "9c3c2b82-afd8-42d6-b692-827fdb09577b"
      },
      "outputs": [],
      "source": [
        "def greet_people(*names):\n",
        "    for name in names:\n",
        "        print(f'Good morning, {name}!')"
      ]
    },
    {
      "cell_type": "code",
      "execution_count": 47,
      "id": "9436eaae-bbe0-439c-a5e2-7fa89eef6a27",
      "metadata": {
        "colab": {
          "base_uri": "https://localhost:8080/"
        },
        "id": "9436eaae-bbe0-439c-a5e2-7fa89eef6a27",
        "outputId": "8b0a4b79-e819-47f9-af40-ae59f35647c6"
      },
      "outputs": [
        {
          "output_type": "stream",
          "name": "stdout",
          "text": [
            "Good morning, Hugo!\n",
            "Good morning, Paco!\n",
            "Good morning, Luis!\n",
            "Good morning, Donald!\n",
            "Good morning, Jonathan!\n",
            "Good morning, Sandra!\n"
          ]
        }
      ],
      "source": [
        "greet_people('Hugo','Paco','Luis','Donald', 'Jonathan', 'Sandra')"
      ]
    },
    {
      "cell_type": "code",
      "execution_count": 48,
      "id": "003b3452-1bcc-44ef-ba67-c4237971ca60",
      "metadata": {
        "id": "003b3452-1bcc-44ef-ba67-c4237971ca60"
      },
      "outputs": [],
      "source": [
        "def i_greet_people(who_greets, *names):\n",
        "    for name in names:\n",
        "        print(f'I\\'m {who_greets}, hi {name}!.')"
      ]
    },
    {
      "cell_type": "code",
      "execution_count": 49,
      "id": "3faef459-4997-4940-a7de-a0d1d316d93a",
      "metadata": {
        "colab": {
          "base_uri": "https://localhost:8080/"
        },
        "id": "3faef459-4997-4940-a7de-a0d1d316d93a",
        "outputId": "5ea377ac-a171-4e0f-c173-32b376ddb0ef"
      },
      "outputs": [
        {
          "output_type": "stream",
          "name": "stdout",
          "text": [
            "I'm León, hi Andrew!.\n",
            "I'm León, hi Sarah!.\n",
            "I'm León, hi Anne!.\n",
            "I'm León, hi Fido!.\n",
            "I'm León, hi Jonathan!.\n",
            "I'm León, hi Sandra!.\n"
          ]
        }
      ],
      "source": [
        "i_greet_people('León','Andrew','Sarah','Anne','Fido','Jonathan', 'Sandra')"
      ]
    },
    {
      "cell_type": "markdown",
      "id": "b0fafbed-0603-42b2-b66b-feeeccf8f451",
      "metadata": {
        "id": "b0fafbed-0603-42b2-b66b-feeeccf8f451"
      },
      "source": [
        "- Now that we are aware of functions, we need to understand the scope of variables.\n",
        "- The **scope** of a variable determines whether it is visible or not in a given portion of the program.\n",
        "- A variable's visibility determines if we can access and/or modify it."
      ]
    },
    {
      "cell_type": "markdown",
      "id": "8341f3d7-4a90-40b5-8e29-a8662480d299",
      "metadata": {
        "id": "8341f3d7-4a90-40b5-8e29-a8662480d299"
      },
      "source": [
        "- Being parameters or whether defined inside a function, **local variables** are visible only from inside such function.\n",
        "- If defined outside of a given function, **global variables** are visible from within such function.\n",
        "- A variable's **lifetime** depends on its scope as well.\n",
        "- Lifetime of a variable is the period throughout which the variable exists in memory. For instance, the lifetime of local variables inside a function is as long as the **function is executing**.\n",
        "- They are destroyed once we return from the function. Hence, a function does not remember the value of a variable from its previous calls."
      ]
    },
    {
      "cell_type": "code",
      "execution_count": 50,
      "id": "389f6153-4369-43b0-ba2b-5271d4ad36a3",
      "metadata": {
        "colab": {
          "base_uri": "https://localhost:8080/"
        },
        "id": "389f6153-4369-43b0-ba2b-5271d4ad36a3",
        "outputId": "9fbd879a-cb67-4f39-ba69-90ff7856135d"
      },
      "outputs": [
        {
          "output_type": "stream",
          "name": "stdout",
          "text": [
            "Value inside function: 10\n",
            "Value outside function: 20\n"
          ]
        }
      ],
      "source": [
        "def scope_func():\n",
        "    x = 10\n",
        "    print('Value inside function:', x)\n",
        "x = 20\n",
        "scope_func()\n",
        "print('Value outside function:', x)"
      ]
    },
    {
      "cell_type": "markdown",
      "id": "2087ab33-b5ae-4dd4-9573-3cd2540a3833",
      "metadata": {
        "id": "2087ab33-b5ae-4dd4-9573-3cd2540a3833"
      },
      "source": [
        "We can use `global` keyword to modify a global variable from a local scope."
      ]
    },
    {
      "cell_type": "code",
      "execution_count": 51,
      "id": "a09525f7-3e1e-467b-9eb3-7f4e5d6367f4",
      "metadata": {
        "colab": {
          "base_uri": "https://localhost:8080/",
          "height": 314
        },
        "id": "a09525f7-3e1e-467b-9eb3-7f4e5d6367f4",
        "outputId": "cdd70412-81c7-4518-955a-b9de367e2337"
      },
      "outputs": [
        {
          "output_type": "error",
          "ename": "UnboundLocalError",
          "evalue": "cannot access local variable 'num' where it is not associated with a value",
          "traceback": [
            "\u001b[0;31m---------------------------------------------------------------------------\u001b[0m",
            "\u001b[0;31mUnboundLocalError\u001b[0m                         Traceback (most recent call last)",
            "\u001b[0;32m<ipython-input-51-3f2c6ab4619d>\u001b[0m in \u001b[0;36m<cell line: 0>\u001b[0;34m()\u001b[0m\n\u001b[1;32m      4\u001b[0m     \u001b[0mnum\u001b[0m \u001b[0;34m+=\u001b[0m \u001b[0;36m2\u001b[0m\u001b[0;34m\u001b[0m\u001b[0;34m\u001b[0m\u001b[0m\n\u001b[1;32m      5\u001b[0m \u001b[0;34m\u001b[0m\u001b[0m\n\u001b[0;32m----> 6\u001b[0;31m \u001b[0ma_funcion\u001b[0m\u001b[0;34m(\u001b[0m\u001b[0;34m)\u001b[0m\u001b[0;34m\u001b[0m\u001b[0;34m\u001b[0m\u001b[0m\n\u001b[0m\u001b[1;32m      7\u001b[0m \u001b[0mprint\u001b[0m\u001b[0;34m(\u001b[0m\u001b[0mnum\u001b[0m\u001b[0;34m)\u001b[0m\u001b[0;34m\u001b[0m\u001b[0;34m\u001b[0m\u001b[0m\n",
            "\u001b[0;32m<ipython-input-51-3f2c6ab4619d>\u001b[0m in \u001b[0;36ma_funcion\u001b[0;34m()\u001b[0m\n\u001b[1;32m      2\u001b[0m \u001b[0;34m\u001b[0m\u001b[0m\n\u001b[1;32m      3\u001b[0m \u001b[0;32mdef\u001b[0m \u001b[0ma_funcion\u001b[0m\u001b[0;34m(\u001b[0m\u001b[0;34m)\u001b[0m\u001b[0;34m:\u001b[0m\u001b[0;34m\u001b[0m\u001b[0;34m\u001b[0m\u001b[0m\n\u001b[0;32m----> 4\u001b[0;31m     \u001b[0mnum\u001b[0m \u001b[0;34m+=\u001b[0m \u001b[0;36m2\u001b[0m\u001b[0;34m\u001b[0m\u001b[0;34m\u001b[0m\u001b[0m\n\u001b[0m\u001b[1;32m      5\u001b[0m \u001b[0;34m\u001b[0m\u001b[0m\n\u001b[1;32m      6\u001b[0m \u001b[0ma_funcion\u001b[0m\u001b[0;34m(\u001b[0m\u001b[0;34m)\u001b[0m\u001b[0;34m\u001b[0m\u001b[0;34m\u001b[0m\u001b[0m\n",
            "\u001b[0;31mUnboundLocalError\u001b[0m: cannot access local variable 'num' where it is not associated with a value"
          ]
        }
      ],
      "source": [
        "num = 5\n",
        "\n",
        "def a_funcion():\n",
        "    num += 2\n",
        "\n",
        "a_funcion()\n",
        "print(num)"
      ]
    },
    {
      "cell_type": "code",
      "execution_count": 52,
      "id": "be80b358-c772-4fab-812c-14e2b14056ae",
      "metadata": {
        "colab": {
          "base_uri": "https://localhost:8080/"
        },
        "id": "be80b358-c772-4fab-812c-14e2b14056ae",
        "outputId": "7c84a012-5ca0-4df1-cbf9-99710a8682e8"
      },
      "outputs": [
        {
          "output_type": "stream",
          "name": "stdout",
          "text": [
            "7\n"
          ]
        }
      ],
      "source": [
        "num = 5\n",
        "\n",
        "def a_funcion():\n",
        "    global num\n",
        "    num += 2\n",
        "\n",
        "a_funcion()\n",
        "print(num)"
      ]
    },
    {
      "cell_type": "markdown",
      "id": "70bd79b8-f493-4f37-89d0-517dbbd3f2ca",
      "metadata": {
        "id": "70bd79b8-f493-4f37-89d0-517dbbd3f2ca"
      },
      "source": [
        "- **Nonlocal variables** are used in a nested function whose local scope is not defined. This means the variable can be neither in the local nor the global scope.\n",
        "- Use the `nonlocal` keyword to create a nonlocal variable."
      ]
    },
    {
      "cell_type": "code",
      "execution_count": 54,
      "id": "d4c0d62e-076b-4edb-9463-157c1713a1b7",
      "metadata": {
        "colab": {
          "base_uri": "https://localhost:8080/"
        },
        "id": "d4c0d62e-076b-4edb-9463-157c1713a1b7",
        "outputId": "da580ec5-7192-45d7-8ccc-883ddd8344f7"
      },
      "outputs": [
        {
          "output_type": "stream",
          "name": "stdout",
          "text": [
            "Sandra\n",
            "Jonathan\n"
          ]
        }
      ],
      "source": [
        "def external_function():\n",
        "    name = 'Jonathan'\n",
        "\n",
        "    def internal_function():\n",
        "        name = 'Sandra'\n",
        "        print(name)\n",
        "\n",
        "    internal_function()\n",
        "    print(name)\n",
        "\n",
        "external_function()"
      ]
    },
    {
      "cell_type": "code",
      "execution_count": 55,
      "id": "2aae0631-7191-417c-b520-45648403e27a",
      "metadata": {
        "colab": {
          "base_uri": "https://localhost:8080/"
        },
        "id": "2aae0631-7191-417c-b520-45648403e27a",
        "outputId": "a782478f-cae8-4a11-bb75-4903e4c221a2"
      },
      "outputs": [
        {
          "output_type": "stream",
          "name": "stdout",
          "text": [
            "Sandra\n",
            "Sandra\n"
          ]
        }
      ],
      "source": [
        "def external_function():\n",
        "    name = 'Jonathan'\n",
        "\n",
        "    def internal_function():\n",
        "        nonlocal name\n",
        "        name = 'Sandra'\n",
        "        print(name)\n",
        "\n",
        "    internal_function()\n",
        "    print(name)\n",
        "\n",
        "external_function()"
      ]
    },
    {
      "cell_type": "markdown",
      "id": "cbdd7e09-ed87-4ae8-a899-45fea110b0a1",
      "metadata": {
        "id": "cbdd7e09-ed87-4ae8-a899-45fea110b0a1"
      },
      "source": [
        "## The `global` keyword\n",
        "In Python, the `global` keyword allows you to modify the variable outside of the current scope. It is used to create a global variable and make changes to the variable in a local context.\n",
        "- When we create a variable inside a function, it is local by default.\n",
        "- When we define a variable outside of a function, it is global by default. You do not have to use the `global` keyword.\n",
        "- We use the `global` keyword to read and write a global variable inside a function.\n",
        "- Using `global` keyword outside a function has no effect."
      ]
    },
    {
      "cell_type": "code",
      "execution_count": 56,
      "id": "d7b5a323-12d4-49f9-9d03-60ab019dbadf",
      "metadata": {
        "colab": {
          "base_uri": "https://localhost:8080/"
        },
        "id": "d7b5a323-12d4-49f9-9d03-60ab019dbadf",
        "outputId": "5d75c933-1976-4430-daa7-cbe8a36cd3cb"
      },
      "outputs": [
        {
          "output_type": "stream",
          "name": "stdout",
          "text": [
            "2\n"
          ]
        }
      ],
      "source": [
        "a = 2\n",
        "\n",
        "def add():\n",
        "    print(a)\n",
        "\n",
        "add()"
      ]
    },
    {
      "cell_type": "code",
      "execution_count": 57,
      "id": "25a75ef7-f70a-4550-9dea-08a906b0d1e4",
      "metadata": {
        "colab": {
          "base_uri": "https://localhost:8080/",
          "height": 297
        },
        "id": "25a75ef7-f70a-4550-9dea-08a906b0d1e4",
        "outputId": "22e2df21-f58a-4ffe-e3e7-59cb8052d1e7"
      },
      "outputs": [
        {
          "output_type": "error",
          "ename": "UnboundLocalError",
          "evalue": "cannot access local variable 'b' where it is not associated with a value",
          "traceback": [
            "\u001b[0;31m---------------------------------------------------------------------------\u001b[0m",
            "\u001b[0;31mUnboundLocalError\u001b[0m                         Traceback (most recent call last)",
            "\u001b[0;32m<ipython-input-57-dc9fbd201038>\u001b[0m in \u001b[0;36m<cell line: 0>\u001b[0;34m()\u001b[0m\n\u001b[1;32m      5\u001b[0m     \u001b[0mprint\u001b[0m\u001b[0;34m(\u001b[0m\u001b[0mb\u001b[0m\u001b[0;34m)\u001b[0m\u001b[0;34m\u001b[0m\u001b[0;34m\u001b[0m\u001b[0m\n\u001b[1;32m      6\u001b[0m \u001b[0;34m\u001b[0m\u001b[0m\n\u001b[0;32m----> 7\u001b[0;31m \u001b[0madd\u001b[0m\u001b[0;34m(\u001b[0m\u001b[0;34m)\u001b[0m\u001b[0;34m\u001b[0m\u001b[0;34m\u001b[0m\u001b[0m\n\u001b[0m",
            "\u001b[0;32m<ipython-input-57-dc9fbd201038>\u001b[0m in \u001b[0;36madd\u001b[0;34m()\u001b[0m\n\u001b[1;32m      2\u001b[0m \u001b[0;34m\u001b[0m\u001b[0m\n\u001b[1;32m      3\u001b[0m \u001b[0;32mdef\u001b[0m \u001b[0madd\u001b[0m\u001b[0;34m(\u001b[0m\u001b[0;34m)\u001b[0m\u001b[0;34m:\u001b[0m\u001b[0;34m\u001b[0m\u001b[0;34m\u001b[0m\u001b[0m\n\u001b[0;32m----> 4\u001b[0;31m     \u001b[0mb\u001b[0m \u001b[0;34m=\u001b[0m \u001b[0mb\u001b[0m \u001b[0;34m+\u001b[0m \u001b[0;36m4\u001b[0m\u001b[0;34m\u001b[0m\u001b[0;34m\u001b[0m\u001b[0m\n\u001b[0m\u001b[1;32m      5\u001b[0m     \u001b[0mprint\u001b[0m\u001b[0;34m(\u001b[0m\u001b[0mb\u001b[0m\u001b[0;34m)\u001b[0m\u001b[0;34m\u001b[0m\u001b[0;34m\u001b[0m\u001b[0m\n\u001b[1;32m      6\u001b[0m \u001b[0;34m\u001b[0m\u001b[0m\n",
            "\u001b[0;31mUnboundLocalError\u001b[0m: cannot access local variable 'b' where it is not associated with a value"
          ]
        }
      ],
      "source": [
        "b = 2\n",
        "\n",
        "def add():\n",
        "    b = b + 4\n",
        "    print(b)\n",
        "\n",
        "add()"
      ]
    },
    {
      "cell_type": "code",
      "execution_count": 58,
      "id": "6eb59564-f71f-4ede-adfe-7a4b7159c407",
      "metadata": {
        "colab": {
          "base_uri": "https://localhost:8080/"
        },
        "id": "6eb59564-f71f-4ede-adfe-7a4b7159c407",
        "outputId": "7f22c6d0-0219-4a14-b76f-4263eb34f675"
      },
      "outputs": [
        {
          "output_type": "stream",
          "name": "stdout",
          "text": [
            "Inside 6\n",
            "Outside 6\n"
          ]
        }
      ],
      "source": [
        "c = 2\n",
        "\n",
        "def add():\n",
        "    global c\n",
        "    c = c + 4\n",
        "    print('Inside', c)\n",
        "\n",
        "add()\n",
        "print('Outside', c)"
      ]
    },
    {
      "cell_type": "markdown",
      "id": "8925bfc2-1a2b-42c6-ab3a-068c911d19d2",
      "metadata": {
        "id": "8925bfc2-1a2b-42c6-ab3a-068c911d19d2"
      },
      "source": [
        "## Recursive Functions\n",
        "- There are **iterative algorithms**, which make use of loops and state-changing variables to perform their tasks.\n",
        "- On the other hand, there are **recursive algorithms**, which are defined in terms of themselves.\n",
        "- **Recursive functions** are an elegant way to solve some problems. Moreover, they're quite popular in functional programming.\n",
        "- Both of them have their pros and cons."
      ]
    },
    {
      "cell_type": "code",
      "execution_count": 59,
      "id": "c8dff316-068e-45a6-8790-9f1b2badb220",
      "metadata": {
        "colab": {
          "base_uri": "https://localhost:8080/"
        },
        "id": "c8dff316-068e-45a6-8790-9f1b2badb220",
        "outputId": "27b7a456-2b7b-4b11-cb76-f1d4d88ace34"
      },
      "outputs": [
        {
          "output_type": "execute_result",
          "data": {
            "text/plain": [
              "120"
            ]
          },
          "metadata": {},
          "execution_count": 59
        }
      ],
      "source": [
        "def iterative_factorial(n):\n",
        "    result = 1\n",
        "    for i in range(1, n+1):\n",
        "        result *= i\n",
        "    return result\n",
        "\n",
        "iterative_factorial(5)"
      ]
    },
    {
      "cell_type": "code",
      "execution_count": 60,
      "id": "e5f0f3fd-697a-45ee-a12d-bd67f34d027d",
      "metadata": {
        "colab": {
          "base_uri": "https://localhost:8080/"
        },
        "id": "e5f0f3fd-697a-45ee-a12d-bd67f34d027d",
        "outputId": "80c4b113-850e-49bc-cadd-2adc0fc24334"
      },
      "outputs": [
        {
          "output_type": "execute_result",
          "data": {
            "text/plain": [
              "120"
            ]
          },
          "metadata": {},
          "execution_count": 60
        }
      ],
      "source": [
        "def recursive_factorial(n):\n",
        "    if n == 1:\n",
        "        return 1\n",
        "    else:\n",
        "        return n * recursive_factorial(n-1)\n",
        "\n",
        "recursive_factorial(5)"
      ]
    },
    {
      "cell_type": "markdown",
      "id": "60676731-f335-4fc3-84c6-4350a6728781",
      "metadata": {
        "id": "60676731-f335-4fc3-84c6-4350a6728781"
      },
      "source": [
        "### Advantages of Recursion\n",
        "- Recursive functions make the code look clean and elegant.\n",
        "- A complex task can be broken down into simpler sub-problems using recursion.\n",
        "- Sequence generation is easier with recursion than using some nested iteration.\n",
        "- Some solutions can be written more naturally using recursion.\n",
        "### Disadvantages of Recursion\n",
        "- Sometimes the logic behind recursion is hard to follow through.\n",
        "- Recursive calls are expensive (inefficient) as they take up a lot of memory and time.\n",
        "- Recursive functions are hard to debug."
      ]
    },
    {
      "cell_type": "markdown",
      "id": "4528b652-03e7-4756-b272-05913cf65616",
      "metadata": {
        "id": "4528b652-03e7-4756-b272-05913cf65616"
      },
      "source": [
        "<div class=\"alert alert-block alert-info\">\n",
        "<b>Did you know...</b> In Python, functions are first-class citizens, meaning they can be passed around as arguments, returned from other functions, and assigned to variables just like any other object! This allows for powerful techniques like higher-order functions and function composition.\n",
        "</div>"
      ]
    },
    {
      "cell_type": "markdown",
      "id": "76fd503e-2f87-40d9-8578-6ebe7e63ebf6",
      "metadata": {
        "id": "76fd503e-2f87-40d9-8578-6ebe7e63ebf6"
      },
      "source": [
        "## Anonymous Functions and Lambda Functions\n",
        "- An **anonymous function** is a function that is defined without a name.\n",
        "- While normal functions are defined using the `def` keyword and a name, in Python anonymous functions are defined using the `lambda` keyword.\n",
        "- Lambda functions can have any number of arguments but only **one expression**. The expression is **evaluated** and returned.\n",
        "- Lambda functions can be used wherever function objects are required."
      ]
    },
    {
      "cell_type": "markdown",
      "id": "cd3e8c57-e418-4b08-a9c0-9c5461e25a77",
      "metadata": {
        "id": "cd3e8c57-e418-4b08-a9c0-9c5461e25a77"
      },
      "source": [
        "The following function is defined as usual."
      ]
    },
    {
      "cell_type": "code",
      "execution_count": 61,
      "id": "c4ac2382-d687-4952-8960-0d70509d9f2c",
      "metadata": {
        "id": "c4ac2382-d687-4952-8960-0d70509d9f2c"
      },
      "outputs": [],
      "source": [
        "def area(height, width):\n",
        "    return height*width"
      ]
    },
    {
      "cell_type": "code",
      "execution_count": 62,
      "id": "f7d15207-ea4d-4ce4-8e0c-1f2ad1061b75",
      "metadata": {
        "colab": {
          "base_uri": "https://localhost:8080/"
        },
        "id": "f7d15207-ea4d-4ce4-8e0c-1f2ad1061b75",
        "outputId": "3dad5c9b-cf12-4b11-8614-d5b166f559a2"
      },
      "outputs": [
        {
          "output_type": "execute_result",
          "data": {
            "text/plain": [
              "30"
            ]
          },
          "metadata": {},
          "execution_count": 62
        }
      ],
      "source": [
        "area(5,6)"
      ]
    },
    {
      "cell_type": "markdown",
      "id": "ea182676-d179-4cac-aa65-8727f3f21fa4",
      "metadata": {
        "id": "ea182676-d179-4cac-aa65-8727f3f21fa4"
      },
      "source": [
        "The following one, is the same function, but defined as a lambda one."
      ]
    },
    {
      "cell_type": "code",
      "execution_count": 63,
      "id": "3e761b29-29a2-4210-b683-a25cd792bdca",
      "metadata": {
        "colab": {
          "base_uri": "https://localhost:8080/"
        },
        "id": "3e761b29-29a2-4210-b683-a25cd792bdca",
        "outputId": "5710c2e3-376c-48a0-9bbc-1035580ac077"
      },
      "outputs": [
        {
          "output_type": "execute_result",
          "data": {
            "text/plain": [
              "<function __main__.<lambda>(height, width)>"
            ]
          },
          "metadata": {},
          "execution_count": 63
        }
      ],
      "source": [
        "lambda height, width : height*width"
      ]
    },
    {
      "cell_type": "markdown",
      "id": "8ef4697b-e954-4107-ae75-d3ac6f9e6fb6",
      "metadata": {
        "id": "8ef4697b-e954-4107-ae75-d3ac6f9e6fb6"
      },
      "source": [
        "And bellow, it's assigned to a variable."
      ]
    },
    {
      "cell_type": "code",
      "execution_count": 64,
      "id": "1db8bc32-b137-4eed-aa14-f0e210a11e01",
      "metadata": {
        "id": "1db8bc32-b137-4eed-aa14-f0e210a11e01"
      },
      "outputs": [],
      "source": [
        "area_var = lambda height, width : height*width"
      ]
    },
    {
      "cell_type": "code",
      "execution_count": 65,
      "id": "4210b435-4b8a-4b0c-a4b0-6d209faf0297",
      "metadata": {
        "colab": {
          "base_uri": "https://localhost:8080/"
        },
        "id": "4210b435-4b8a-4b0c-a4b0-6d209faf0297",
        "outputId": "4aa4ab97-2166-4d12-f6bb-f5b9ad0bb4bd"
      },
      "outputs": [
        {
          "output_type": "execute_result",
          "data": {
            "text/plain": [
              "30"
            ]
          },
          "metadata": {},
          "execution_count": 65
        }
      ],
      "source": [
        "area_var(5,6)"
      ]
    },
    {
      "cell_type": "markdown",
      "id": "def0b401-8645-4afe-b332-ce5a6b79c372",
      "metadata": {
        "id": "def0b401-8645-4afe-b332-ce5a6b79c372"
      },
      "source": [
        "However, lambda functions are more useful when we use them with methods such as `map` or `filter`, as follows."
      ]
    },
    {
      "cell_type": "code",
      "execution_count": 66,
      "id": "7b9b7c3e-8093-4baf-9bfa-3e63747b3bb5",
      "metadata": {
        "id": "7b9b7c3e-8093-4baf-9bfa-3e63747b3bb5"
      },
      "outputs": [],
      "source": [
        "sides = [7, 3, 5, 10]"
      ]
    },
    {
      "cell_type": "code",
      "execution_count": 67,
      "id": "8faf595b-9786-4a52-8d70-1b6599272f74",
      "metadata": {
        "colab": {
          "base_uri": "https://localhost:8080/"
        },
        "id": "8faf595b-9786-4a52-8d70-1b6599272f74",
        "outputId": "a6e09766-cef6-4b24-c845-52f32ea29624"
      },
      "outputs": [
        {
          "output_type": "execute_result",
          "data": {
            "text/plain": [
              "[7, 3, 5, 10]"
            ]
          },
          "metadata": {},
          "execution_count": 67
        }
      ],
      "source": [
        "sides"
      ]
    },
    {
      "cell_type": "code",
      "execution_count": 68,
      "id": "df6d9834-809a-4f8f-be55-aa10507c4f26",
      "metadata": {
        "id": "df6d9834-809a-4f8f-be55-aa10507c4f26"
      },
      "outputs": [],
      "source": [
        "areas = list(map(lambda side : side**2, sides))"
      ]
    },
    {
      "cell_type": "code",
      "execution_count": 69,
      "id": "5d43e017-4851-4467-8793-d72a89d34199",
      "metadata": {
        "colab": {
          "base_uri": "https://localhost:8080/"
        },
        "id": "5d43e017-4851-4467-8793-d72a89d34199",
        "outputId": "2dd73ae0-efb5-4f01-e673-ccae224d1f9a"
      },
      "outputs": [
        {
          "output_type": "execute_result",
          "data": {
            "text/plain": [
              "[49, 9, 25, 100]"
            ]
          },
          "metadata": {},
          "execution_count": 69
        }
      ],
      "source": [
        "areas"
      ]
    },
    {
      "cell_type": "code",
      "execution_count": 70,
      "id": "d252d3e7-8533-491a-a228-ccfb98ed20c2",
      "metadata": {
        "id": "d252d3e7-8533-491a-a228-ccfb98ed20c2"
      },
      "outputs": [],
      "source": [
        "odd_sides = list(filter(lambda i : i % 2 != 0, sides))"
      ]
    },
    {
      "cell_type": "code",
      "execution_count": 71,
      "id": "2076883b-4794-4f50-aa32-acb5982a5ac3",
      "metadata": {
        "colab": {
          "base_uri": "https://localhost:8080/"
        },
        "id": "2076883b-4794-4f50-aa32-acb5982a5ac3",
        "outputId": "3f04cb84-8bac-433b-b838-d1af2c841c65"
      },
      "outputs": [
        {
          "output_type": "execute_result",
          "data": {
            "text/plain": [
              "[7, 3, 5]"
            ]
          },
          "metadata": {},
          "execution_count": 71
        }
      ],
      "source": [
        "odd_sides"
      ]
    },
    {
      "cell_type": "markdown",
      "id": "2a5964ef-7082-4fa8-ad1e-c243ff9898f5",
      "metadata": {
        "id": "2a5964ef-7082-4fa8-ad1e-c243ff9898f5"
      },
      "source": [
        "<div class=\"alert alert-block alert-warning\">\n",
        "<b>Reflection Questions:</b>\n",
        "    <ul>\n",
        "        <li>How do you decide when to create a new function in your code? What factors influence your decision to break a problem into smaller, reusable functions?</li>\n",
        "        <li>How does variable scope (local, global, and nonlocal) affect the behavior of your functions? What steps can you take to minimize unintended side effects in your code?</li>\n",
        "        <li>What is the difference between positional, keyword, and default arguments in Python functions? How can you use these effectively to make your functions more flexible and user-friendly?</li>\n",
        "    </ul>\n",
        "</div>"
      ]
    },
    {
      "cell_type": "markdown",
      "source": [
        "# Respuestas a preguntas:\n",
        "\n",
        "## ¿Cuándo crear una nueva función?\n",
        "\n",
        "* Repetición de código: Si un bloque de instrucciones aparece en varios lugares, conviene abstraerlo.\n",
        "\n",
        "* Unidad de responsabilidad: Cuando una sección de tu código cumple una tarea bien definida (por ejemplo, validar un email, formatear una fecha).\n",
        "\n",
        "* Claridad y legibilidad: Si un fragmento largo o complejo dificulta la lectura, muévelo a una función con un nombre descriptivo.\n",
        "\n",
        "* Facilidad de prueba: Las funciones independientes son más sencillas de aislar y cubrir con tests.\n",
        "\n",
        "\n",
        "## Factores para descomponer en funciones reutilizables\n",
        "\n",
        "* Cohesión: Cada función debe hacer “solo una cosa” y hacerlo bien.\n",
        "\n",
        "* Bajo acoplamiento: Minimizar dependencias entre funciones para poder modificarlas por separado.\n",
        "\n",
        "* Reutilización: Anticipar si esa lógica se usará en distintos contextos o proyectos.\n",
        "\n",
        "* Mantenibilidad: Código modular es más fácil de actualizar y depurar.\n",
        "\n",
        "* Testabilidad: Funciones pequeñas y con parámetros claros facilitan escribir casos de prueba automáticos.\n",
        "\n",
        "<br>\n",
        "\n",
        "# ¿Cómo afecta el scope de variables al comportamiento de tus funciones?\n",
        "\n",
        "## Locales\n",
        "\n",
        "* Son las que declaras dentro de la función.\n",
        "* Solo existen durante la llamada y no “contaminan” el resto del programa.\n",
        "* Si asignas a un nombre dentro de la función, Python lo trata como local y deja de ver la homónima global (por eso aparece UnboundLocalError si intentas leerla antes de asignar).\n",
        "\n",
        "## Globales\n",
        "\n",
        "* Se definen en el nivel de módulo (fuera de cualquier función).\n",
        "* Puedes leerlas desde dentro de cualquier función.\n",
        "* Para modificarlas dentro de una función, debes usar global. De lo contrario, cualquier asignación crea una nueva variable local y no altera la global.\n",
        "\n",
        "## Nonlocal\n",
        "\n",
        "* Aplica a funciones anidadas: permite que una función interna modifique una variable del scope de la función contenedora (pero no global).\n",
        "* Se declara con nonlocal nombre. Si no, cualquier asignación a ese nombre dentro de la interna la convierte en local, inaccesible para la externa.\n",
        "\n",
        "<br>\n",
        "\n",
        "# Pasos para minimizar efectos secundarios (side effects)\n",
        "\n",
        "1. Funciones puras: Que solo dependan de sus argumentos y siempre devuelvan el mismo resultado sin modificar nada fuera de su scope.\n",
        "\n",
        "2. Pasar y devolver valores: En vez de leer o escribir globals, recibe datos como parámetros y devuelve el nuevo estado.\n",
        "\n",
        "3. Evitar global y nonlocal salvo necesidad real: Limítalos a casos muy concretos (p. ej., closures que mantienen contadores), porque dificultan el seguimiento del flujo de datos.\n",
        "\n",
        "4. Inmutabilidad: Cuando sea posible, trabaja con tipos inmutables o cópialos antes de modificarlos (p. ej., usa .copy() en listas/dict).\n",
        "\n",
        "5. Encapsular estado: Agrupar datos mutables en clases u objetos bien definidos, con métodos que controlen los cambios.\n",
        "\n",
        "6. Pruebas unitarias: Cubrir casos donde esperas que una función no altere nada fuera de su retorno; te ayudarán a detectar efectos indeseados.\n",
        "\n",
        "7. Documentación y naming claro: Declarar en la docstring cuándo una función modifica su argumento o el entorno, y usa nombres que sugieran mutabilidad (p. ej., update_…, modify_…).\n",
        "\n",
        "\n",
        "# Positional arguments\n",
        "\n",
        "* Se pasan por orden, sin nombre explícito.\n",
        "* En la definición def f(a, b): …, al llamar f(1, 2) Python asigna a=1, b=2 por su posición.\n",
        "* Son simples y directos, pero menos claros si hay muchos parámetros del mismo tipo.\n",
        "\n",
        "# Keyword arguments\n",
        "\n",
        "* Se pasan nombrando cada parámetro: f(a=1, b=2).\n",
        "* Permiten escribirlos en cualquier orden, p. ej. f(b=2, a=1).\n",
        "* Mejoran la legibilidad y evitan errores de orden.\n",
        "\n",
        "# Default arguments\n",
        "\n",
        "* Son valores que se usan si no se provee el argumento.\n",
        "* Hacen opcional la especificación y ayudan a personalizar el comportamiento sin romper llamadas existentes.\n",
        "\n",
        "<br>\n",
        "\n",
        "# ¿Cómo combinarlos para más flexibilidad?\n",
        "\n",
        "## 1) Ordena bien la firma\n",
        "* Primero los posicionales obligatorios (texto).\n",
        "* Luego los opcionales con = (encoding).\n",
        "* Finalmente los keyword-only (después de *) como verbose, que solo admiten llamada por nombre.\n",
        "\n",
        "## 2) Usa defaults sensatos\n",
        "\n",
        "* Elige valores comunes (p. ej. encoding='utf-8') para que el usuario promedio no tenga que especificarlos.\n",
        "* Documenta en la docstring qué significan y cuándo cambiarlos.\n",
        "\n",
        "## 3) Acepta argumentos variables\n",
        "* *archivos: recibe cualquier lista de ficheros posicionales.\n",
        "* overwrite=False es keyword-only, obliga a nombrarlo.\n",
        "* **opciones: captura futuros parámetros sin romper la interfaz.\n",
        "\n",
        "## 4) Claridad y consistencia\n",
        "\n",
        "* Si esperas muchos parámetros opcionales, hazlos keyword-only para evitar confusión.\n",
        "* Usa nombres descriptivos y documenta cada uno en la docstring.\n",
        "\n",
        "\n",
        "Así las funciones serán mas fáciles de usar (con llamadas claras), robustas frente a cambios (añadir opciones sin romper código) y flexibles para distintos casos de uso.\n"
      ],
      "metadata": {
        "id": "cYonAaLJLrxU"
      },
      "id": "cYonAaLJLrxU"
    },
    {
      "cell_type": "markdown",
      "id": "d588fd4f-67cc-423e-bf88-a0bded2672a3",
      "metadata": {
        "id": "d588fd4f-67cc-423e-bf88-a0bded2672a3"
      },
      "source": [
        "## Let's do a little exercise\n",
        "Write a function called greet_multiple that takes a list of names and prints a greeting for each name in the list (e.g., ['Alice', 'Bob', 'Charlie'])."
      ]
    },
    {
      "cell_type": "code",
      "execution_count": 74,
      "id": "1cbe16c8-4a3d-4445-89b7-42845311a685",
      "metadata": {
        "id": "1cbe16c8-4a3d-4445-89b7-42845311a685"
      },
      "outputs": [],
      "source": [
        "def greet_multiple(names):\n",
        "    \"\"\"\n",
        "    Toma una lista de nombres y\n",
        "    para cada uno imprime un saludo.\n",
        "    \"\"\"\n",
        "    for name in names:\n",
        "        # Usando f-strings para construir el mensaje\n",
        "        print(f\"¡Hola {name}, Bienvenid@!\")"
      ]
    },
    {
      "cell_type": "code",
      "source": [
        "greet_multiple(['Alice', 'Bob', 'Charlie'])"
      ],
      "metadata": {
        "colab": {
          "base_uri": "https://localhost:8080/"
        },
        "id": "nxdzcvFPLUXU",
        "outputId": "399b57c8-d5a1-4b36-9f0c-566fe644baa7"
      },
      "id": "nxdzcvFPLUXU",
      "execution_count": 75,
      "outputs": [
        {
          "output_type": "stream",
          "name": "stdout",
          "text": [
            "¡Hola Alice, Bienvenid@!\n",
            "¡Hola Bob, Bienvenid@!\n",
            "¡Hola Charlie, Bienvenid@!\n"
          ]
        }
      ]
    },
    {
      "cell_type": "markdown",
      "source": [
        "**Autores:** Jonathan Cardona Calderon - Sandra Liliana Zapata Gallón"
      ],
      "metadata": {
        "id": "FP7ZBlIjPlVi"
      },
      "id": "FP7ZBlIjPlVi"
    }
  ],
  "metadata": {
    "kernelspec": {
      "display_name": "Python 3 (ipykernel)",
      "language": "python",
      "name": "python3"
    },
    "language_info": {
      "codemirror_mode": {
        "name": "ipython",
        "version": 3
      },
      "file_extension": ".py",
      "mimetype": "text/x-python",
      "name": "python",
      "nbconvert_exporter": "python",
      "pygments_lexer": "ipython3",
      "version": "3.11.5"
    },
    "colab": {
      "provenance": [],
      "include_colab_link": true
    }
  },
  "nbformat": 4,
  "nbformat_minor": 5
}